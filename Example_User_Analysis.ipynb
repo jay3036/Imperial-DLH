{
 "cells": [
  {
   "cell_type": "markdown",
   "metadata": {
    "extensions": {
     "jupyter_dashboards": {
      "version": 1,
      "views": {
       "grid_default": {
        "col": 0,
        "height": 4,
        "hidden": false,
        "row": 0,
        "width": 4
       },
       "report_default": {
        "hidden": false
       }
      }
     }
    }
   },
   "source": [
    "# Example User Analysis"
   ]
  },
  {
   "cell_type": "code",
   "execution_count": 1,
   "metadata": {
    "extensions": {
     "jupyter_dashboards": {
      "version": 1,
      "views": {
       "grid_default": {
        "hidden": true
       },
       "report_default": {
        "hidden": true
       }
      }
     }
    }
   },
   "outputs": [],
   "source": [
    "import numpy as np\n",
    "import pandas as pd\n",
    "import plotly\n",
    "import plotly.plotly as py\n",
    "import plotly.graph_objs as go\n",
    "import plotly.tools as tls\n",
    "import cufflinks as cf\n",
    "import plotly.figure_factory as ff\n",
    "import plotly.tools as tls\n",
    "\n",
    "name='LA'\n",
    " \n",
    "plotly.tools.set_credentials_file(username='xxxxxxxx', api_key='xxxxxxxxxxxx')\n"
   ]
  },
  {
   "cell_type": "code",
   "execution_count": 2,
   "metadata": {
    "extensions": {
     "jupyter_dashboards": {
      "version": 1,
      "views": {
       "grid_default": {
        "hidden": true
       },
       "report_default": {
        "hidden": true
       }
      }
     }
    },
    "scrolled": false
   },
   "outputs": [],
   "source": [
    "gradebook = pd.read_csv('Data\\gradebook.csv', low_memory=False)\n",
    "users = pd.read_csv('Data\\\\users.csv')\n",
    "users = users.set_index('imperial_user_id')\n",
    "country_codes = pd.read_csv('../../../Data/ISO_country_codes.csv')\n",
    "country_codes = country_codes.set_index('alpha2')\n",
    "## this sets the index of  the country_codes table to the two letter code, making it easy to join with the 'country_cd' column in df"
   ]
  },
  {
   "cell_type": "code",
   "execution_count": 3,
   "metadata": {
    "extensions": {
     "jupyter_dashboards": {
      "version": 1,
      "views": {
       "grid_default": {
        "col": 4,
        "height": 58,
        "hidden": false,
        "row": 0,
        "width": 4
       },
       "report_default": {
        "hidden": false
       }
      }
     }
    }
   },
   "outputs": [
    {
     "name": "stdout",
     "output_type": "stream",
     "text": [
      "20979\n"
     ]
    },
    {
     "data": {
      "text/plain": [
       "Anonymized Coursera ID (imperial_user_id)                   00d5cf8bd7552ae649633a2d13fd0871e9c15de6\n",
       "Solving some simultaneous equations                                                              100\n",
       "Exploring parameter space                                                                    71.4286\n",
       "Doing some vector operations                                                                     100\n",
       "Dot product of vectors                                                                           100\n",
       "Changing basis                                                                                   100\n",
       "Linear dependency of a set of vectors                                                            100\n",
       "Vector operations assessment                                                                     NaN\n",
       "Using matrices to make transformations                                                           100\n",
       "Solving linear equations using the inverse matrix                                                100\n",
       "Identifying special matrices                                                                     NaN\n",
       "Non-square matrix multiplication                                                                 100\n",
       "Mappings to spaces with different numbers of dimensions                                          100\n",
       "Gram-Schmidt Process                                                                             NaN\n",
       "Reflecting Bear                                                                                  NaN\n",
       "Selecting eigenvectors by inspection                                                             100\n",
       "Characteristic polynomials, eigenvalues and eigenvectors                                         100\n",
       "Diagonalisation and applications                                                                 100\n",
       "Page Rank                                                                                        NaN\n",
       "Eigenvalues and eigenvectors                                                                     NaN\n",
       "Course Grade                                                                                     NaN\n",
       "Course Passed                                                                                    NaN\n",
       "Completed with CC                                                                                NaN\n",
       "user_join_ts                                                                     2014-06-17 09:51:36\n",
       "country_cd                                                                                        TR\n",
       "region_cd                                                                                         06\n",
       "profile_language_cd                                                                              NaN\n",
       "browser_language_cd                                                                            en-GB\n",
       "reported_or_inferred_gender                                                                     male\n",
       "employment_status                                                                                NaN\n",
       "educational_attainment                                                                           NaN\n",
       "student_status                                                                                   NaN\n",
       "Country                                                                                       Turkey\n",
       "alpha3                                                                                           TUR\n",
       "numeric                                                                                          792\n",
       "Name: 1, dtype: object"
      ]
     },
     "execution_count": 3,
     "metadata": {},
     "output_type": "execute_result"
    }
   ],
   "source": [
    "### Join the user table to the gradebook so that we can link attainment at each stage of the module to demographics\n",
    "df = gradebook.join(users, 'Anonymized Coursera ID (imperial_user_id)', how = 'left')\n",
    "\n",
    "### Strip out unnecessary info\n",
    "df.columns = df.columns.str.replace('Assessment Grade: ','')\n",
    "\n",
    "cols = [c for c in df.columns if c.lower()[:10] != 'submission']\n",
    "df = df[cols]\n",
    "\n",
    "### Pull in additional country information from ISO data so that we have full country name and alpha3 code which is required for the worldview Plotly map\n",
    "df =  df.join(country_codes,'country_cd', how = 'left')\n",
    "total = df['Anonymized Coursera ID (imperial_user_id)'].nunique()\n",
    "print(total)\n",
    "### simply for easy viewing of fields:\n",
    "pretty = df.iloc[1].transpose()\n",
    "pretty"
   ]
  },
  {
   "cell_type": "code",
   "execution_count": 4,
   "metadata": {
    "extensions": {
     "jupyter_dashboards": {
      "version": 1,
      "views": {
       "grid_default": {
        "hidden": true
       },
       "report_default": {
        "hidden": true
       }
      }
     }
    }
   },
   "outputs": [],
   "source": [
    "def countries (df, column):\n",
    "    \n",
    "    df1 = df.groupby('alpha3').count()\n",
    "\n",
    "    data = [dict(\n",
    "            type = 'choropleth',\n",
    "            locations = df1.index.values,\n",
    "            z = df1[column],\n",
    "            text = df1[column]/total*100,\n",
    "            colorscale = [[0,\"rgb(5, 10, 172)\"],[0.35,\"rgb(40, 60, 190)\"],[0.5,\"rgb(70, 100, 245)\"],\\\n",
    "                [0.6,\"rgb(90, 120, 245)\"],[0.7,\"rgb(106, 137, 247)\"],[1,\"rgb(220, 220, 220)\"]],\n",
    "            autocolorscale = False,\n",
    "            reversescale = True,\n",
    "            marker = dict(\n",
    "                line = dict (\n",
    "                    color = 'rgb(180,180,180)',\n",
    "                    width = 0.5\n",
    "                ) ),\n",
    "            colorbar = dict(\n",
    "                autotick = False),\n",
    "          ) ]\n",
    "\n",
    "    layout = dict(\n",
    "        geo = dict(\n",
    "            showframe = False,\n",
    "            showcoastlines = False,\n",
    "            projection = dict(\n",
    "                type = 'Mercator'\n",
    "            )\n",
    "        )\n",
    "    )\n",
    "\n",
    "    fig = dict( data=data, layout=layout )\n",
    "    plot = py.iplot( fig, validate=False, filename=name + 'learner-world-map2' )\n",
    "    \n",
    "    return plot\n",
    "\n"
   ]
  },
  {
   "cell_type": "code",
   "execution_count": 5,
   "metadata": {
    "extensions": {
     "jupyter_dashboards": {
      "version": 1,
      "views": {
       "grid_default": {
        "hidden": true
       },
       "report_default": {
        "hidden": true
       }
      }
     }
    }
   },
   "outputs": [],
   "source": [
    "def countries_ratio (df, column1, column2):\n",
    "    \n",
    "    df2 = df.groupby('alpha3').count()\n",
    "  \n",
    "    data = [dict(\n",
    "            type = 'choropleth',\n",
    "            locations = df2.index.values,\n",
    "            z = df2[column1]/df2[column2]*100,\n",
    "            colorscale = [[0,\"rgb(5, 10, 172)\"],[0.35,\"rgb(40, 60, 190)\"],[0.5,\"rgb(70, 100, 245)\"],\\\n",
    "                [0.6,\"rgb(90, 120, 245)\"],[0.7,\"rgb(106, 137, 247)\"],[1,\"rgb(220, 220, 220)\"]],\n",
    "            autocolorscale = False,\n",
    "            reversescale = True,\n",
    "            marker = dict(\n",
    "                line = dict (\n",
    "                    color = 'rgb(180,180,180)',\n",
    "                    width = 0.5\n",
    "                ) ),\n",
    "            colorbar = dict(\n",
    "                autotick = False),\n",
    "          ) ]\n",
    "\n",
    "    layout = dict(\n",
    "        geo = dict(\n",
    "            showframe = False,\n",
    "            showcoastlines = False,\n",
    "            projection = dict(\n",
    "                type = 'Mercator'\n",
    "            )\n",
    "        )\n",
    "    )\n",
    "\n",
    "    fig = dict( data=data, layout=layout )\n",
    "    plot = py.iplot( fig, validate=False, filename=name + 'learner-world-map2' )\n",
    "    \n",
    "    return plot\n",
    "\n"
   ]
  },
  {
   "cell_type": "code",
   "execution_count": 6,
   "metadata": {
    "extensions": {
     "jupyter_dashboards": {
      "version": 1,
      "views": {
       "grid_default": {
        "hidden": true
       },
       "report_default": {
        "hidden": true
       }
      }
     }
    },
    "scrolled": false
   },
   "outputs": [],
   "source": [
    "def progress(df, column,x):\n",
    "\n",
    "    df3 = df.drop(columns = ['Course Grade', 'Course Passed', 'Completed with CC'])\n",
    "    \n",
    "    df3 = df3.groupby(column).count()\n",
    "    df3 = df3[df3['Anonymized Coursera ID (imperial_user_id)'] > total*(x/100)]\n",
    "#    print (df3.iloc[0])\n",
    "    \n",
    "    progress = df3.transpose()\n",
    "    progress = progress[:-11]\n",
    "\n",
    "    breakdown = progress.iloc[0]\n",
    "    print (breakdown)\n",
    "    \n",
    "#     plot1 = breakdown.iplot(kind='bar', sharing='private')\n",
    "\n",
    "    progress = (progress/progress.iloc[0]) * 100\n",
    "    plot = progress.iplot(kind='line', sharing='private')\n",
    "    return plot\n",
    "\n"
   ]
  },
  {
   "cell_type": "code",
   "execution_count": null,
   "metadata": {},
   "outputs": [],
   "source": []
  },
  {
   "cell_type": "code",
   "execution_count": 7,
   "metadata": {
    "extensions": {
     "jupyter_dashboards": {
      "version": 1,
      "views": {
       "grid_default": {
        "hidden": true
       },
       "report_default": {
        "hidden": true
       }
      }
     }
    },
    "scrolled": false
   },
   "outputs": [],
   "source": [
    "def learningCurve(df, column, x):\n",
    "    \n",
    "#    df3 = df.groupby(column).count()\n",
    "#    df3 = df3[df3['Anonymized Coursera ID (imperial_user_id)'] > total*(x/100)]\n",
    "#    df3 = df3.iloc[0]\n",
    "\n",
    "    df = df.drop(columns = ['Course Grade', 'Course Passed', 'Completed with CC'])\n",
    "    df = df.groupby(column).mean()\n",
    "    \n",
    "    progress = df.transpose()\n",
    "    progress = progress[:-1]\n",
    "\n",
    "    breakdown = progress.iloc[1]\n",
    "    print (breakdown)\n",
    "    \n",
    "#     plot1 = breakdown.iplot(kind='bar', sharing='private')\n",
    "\n",
    "    plot = progress.iplot(kind='line', sharing='private')\n",
    "    return plot\n",
    "\n"
   ]
  },
  {
   "cell_type": "code",
   "execution_count": 8,
   "metadata": {
    "extensions": {
     "jupyter_dashboards": {
      "version": 1,
      "views": {
       "grid_default": {
        "col": 8,
        "height": 19,
        "hidden": false,
        "row": 0,
        "width": 4
       },
       "report_default": {
        "hidden": false
       }
      }
     }
    }
   },
   "outputs": [
    {
     "data": {
      "text/html": [
       "<iframe id=\"igraph\" scrolling=\"no\" style=\"border:none;\" seamless=\"seamless\" src=\"https://plot.ly/~ikalkani/211.embed\" height=\"525px\" width=\"100%\"></iframe>"
      ],
      "text/plain": [
       "<plotly.tools.PlotlyDisplay object>"
      ]
     },
     "execution_count": 8,
     "metadata": {},
     "output_type": "execute_result"
    }
   ],
   "source": [
    "countries (df, 'Anonymized Coursera ID (imperial_user_id)')"
   ]
  },
  {
   "cell_type": "code",
   "execution_count": 9,
   "metadata": {},
   "outputs": [
    {
     "data": {
      "text/html": [
       "<iframe id=\"igraph\" scrolling=\"no\" style=\"border:none;\" seamless=\"seamless\" src=\"https://plot.ly/~ikalkani/211.embed\" height=\"525px\" width=\"100%\"></iframe>"
      ],
      "text/plain": [
       "<plotly.tools.PlotlyDisplay object>"
      ]
     },
     "execution_count": 9,
     "metadata": {},
     "output_type": "execute_result"
    }
   ],
   "source": [
    "countries_ratio (df, 'Eigenvalues and eigenvectors','Anonymized Coursera ID (imperial_user_id)')"
   ]
  },
  {
   "cell_type": "code",
   "execution_count": 10,
   "metadata": {
    "extensions": {
     "jupyter_dashboards": {
      "version": 1,
      "views": {
       "grid_default": {
        "col": 0,
        "height": 25,
        "hidden": false,
        "row": 4,
        "width": 4
       },
       "report_default": {
        "hidden": false
       }
      }
     }
    },
    "scrolled": false
   },
   "outputs": [
    {
     "name": "stdout",
     "output_type": "stream",
     "text": [
      "browser_language_cd\n",
      "en        1924\n",
      "en-GB     2062\n",
      "en-IN      502\n",
      "en-US    11543\n",
      "en-us      970\n",
      "es-ES      218\n",
      "ru-RU      257\n",
      "zh-CN      743\n",
      "Name: Anonymized Coursera ID (imperial_user_id), dtype: int64\n"
     ]
    },
    {
     "data": {
      "text/html": [
       "<iframe id=\"igraph\" scrolling=\"no\" style=\"border:none;\" seamless=\"seamless\" src=\"https://plot.ly/~ikalkani/456.embed\" height=\"525px\" width=\"100%\"></iframe>"
      ],
      "text/plain": [
       "<plotly.tools.PlotlyDisplay object>"
      ]
     },
     "execution_count": 10,
     "metadata": {},
     "output_type": "execute_result"
    }
   ],
   "source": [
    "progress(df,'browser_language_cd', 1)"
   ]
  },
  {
   "cell_type": "code",
   "execution_count": 11,
   "metadata": {
    "extensions": {
     "jupyter_dashboards": {
      "version": 1,
      "views": {
       "grid_default": {
        "col": 8,
        "height": 25,
        "hidden": false,
        "row": 19,
        "width": 4
       },
       "report_default": {
        "hidden": false
       }
      }
     }
    },
    "scrolled": false
   },
   "outputs": [
    {
     "name": "stdout",
     "output_type": "stream",
     "text": [
      "educational_attainment\n",
      "ASSOCIATE_DEGREE                 66.326531\n",
      "BACHELOR_DEGREE                  78.970719\n",
      "COLLEGE_NO_DEGREE                79.629630\n",
      "DOCTORATE_DEGREE                 82.815735\n",
      "HIGH_SCHOOL_DIPLOMA              73.896104\n",
      "LESS_THAN_HIGH_SCHOOL_DIPLOMA    71.957672\n",
      "MASTERS_DEGREE                   77.603687\n",
      "PROFESSIONAL_DEGREE              81.184669\n",
      "Name: Exploring parameter space, dtype: float64\n"
     ]
    },
    {
     "data": {
      "text/html": [
       "<iframe id=\"igraph\" scrolling=\"no\" style=\"border:none;\" seamless=\"seamless\" src=\"https://plot.ly/~ikalkani/458.embed\" height=\"525px\" width=\"100%\"></iframe>"
      ],
      "text/plain": [
       "<plotly.tools.PlotlyDisplay object>"
      ]
     },
     "execution_count": 11,
     "metadata": {},
     "output_type": "execute_result"
    }
   ],
   "source": [
    "learningCurve(df,'educational_attainment',1)"
   ]
  },
  {
   "cell_type": "code",
   "execution_count": 12,
   "metadata": {
    "extensions": {
     "jupyter_dashboards": {
      "version": 1,
      "views": {
       "grid_default": {
        "col": 0,
        "height": 22,
        "hidden": false,
        "row": 29,
        "width": 4
       },
       "report_default": {
        "hidden": false
       }
      }
     }
    }
   },
   "outputs": [
    {
     "ename": "TypeError",
     "evalue": "progress() missing 1 required positional argument: 'x'",
     "output_type": "error",
     "traceback": [
      "\u001b[1;31m---------------------------------------------------------------------------\u001b[0m",
      "\u001b[1;31mTypeError\u001b[0m                                 Traceback (most recent call last)",
      "\u001b[1;32m<ipython-input-12-e4326f394d81>\u001b[0m in \u001b[0;36m<module>\u001b[1;34m()\u001b[0m\n\u001b[1;32m----> 1\u001b[1;33m \u001b[0mprogress\u001b[0m\u001b[1;33m(\u001b[0m\u001b[0mdf\u001b[0m\u001b[1;33m,\u001b[0m\u001b[1;34m'reported_or_inferred_gender'\u001b[0m\u001b[1;33m)\u001b[0m\u001b[1;33m\u001b[0m\u001b[0m\n\u001b[0m",
      "\u001b[1;31mTypeError\u001b[0m: progress() missing 1 required positional argument: 'x'"
     ]
    }
   ],
   "source": [
    "progress(df,'reported_or_inferred_gender')"
   ]
  },
  {
   "cell_type": "code",
   "execution_count": null,
   "metadata": {
    "extensions": {
     "jupyter_dashboards": {
      "version": 1,
      "views": {
       "grid_default": {
        "col": 8,
        "height": 22,
        "hidden": false,
        "row": 44,
        "width": 4
       },
       "report_default": {
        "hidden": false
       }
      }
     }
    }
   },
   "outputs": [],
   "source": [
    "learningCurve(df,'reported_or_inferred_gender')"
   ]
  },
  {
   "cell_type": "code",
   "execution_count": null,
   "metadata": {
    "extensions": {
     "jupyter_dashboards": {
      "version": 1,
      "views": {
       "grid_default": {
        "col": 0,
        "height": 26,
        "hidden": false,
        "row": 51,
        "width": 4
       },
       "report_default": {
        "hidden": false
       }
      }
     }
    },
    "scrolled": false
   },
   "outputs": [],
   "source": [
    "progress(df,'browser_language_cd',1)"
   ]
  },
  {
   "cell_type": "code",
   "execution_count": null,
   "metadata": {
    "extensions": {
     "jupyter_dashboards": {
      "version": 1,
      "views": {
       "grid_default": {
        "col": 4,
        "height": 26,
        "hidden": false,
        "row": 58,
        "width": 4
       },
       "report_default": {
        "hidden": false
       }
      }
     }
    }
   },
   "outputs": [],
   "source": [
    "learningCurve(df,'browser_language_cd')"
   ]
  },
  {
   "cell_type": "code",
   "execution_count": null,
   "metadata": {
    "extensions": {
     "jupyter_dashboards": {
      "version": 1,
      "views": {
       "grid_default": {
        "hidden": true
       },
       "report_default": {
        "hidden": true
       }
      }
     }
    }
   },
   "outputs": [],
   "source": []
  },
  {
   "cell_type": "code",
   "execution_count": null,
   "metadata": {},
   "outputs": [],
   "source": []
  }
 ],
 "metadata": {
  "extensions": {
   "jupyter_dashboards": {
    "activeView": "report_default",
    "version": 1,
    "views": {
     "grid_default": {
      "cellMargin": 10,
      "defaultCellHeight": 20,
      "maxColumns": 12,
      "name": "grid",
      "type": "grid"
     },
     "report_default": {
      "name": "report",
      "type": "report"
     }
    }
   }
  },
  "kernelspec": {
   "display_name": "Python 3",
   "language": "python",
   "name": "python3"
  },
  "language_info": {
   "codemirror_mode": {
    "name": "ipython",
    "version": 3
   },
   "file_extension": ".py",
   "mimetype": "text/x-python",
   "name": "python",
   "nbconvert_exporter": "python",
   "pygments_lexer": "ipython3",
   "version": "3.6.4"
  }
 },
 "nbformat": 4,
 "nbformat_minor": 2
}
