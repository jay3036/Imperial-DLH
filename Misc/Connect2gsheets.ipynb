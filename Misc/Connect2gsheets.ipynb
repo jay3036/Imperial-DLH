{
 "cells": [
  {
   "cell_type": "code",
   "execution_count": 33,
   "metadata": {
    "scrolled": false
   },
   "outputs": [],
   "source": [
    "import pandas as pd\n",
    "import json\n",
    "import gspread\n",
    "from oauth2client.service_account import ServiceAccountCredentials\n",
    "\n",
    "scope = ['https://spreadsheets.google.com/feeds']\n",
    "credentials = ServiceAccountCredentials.from_json_keyfile_name('ImperialDLH-504e4d642d14.json', scope)\n",
    "gc = gspread.authorize(credentials)\n"
   ]
  },
  {
   "cell_type": "code",
   "execution_count": 35,
   "metadata": {},
   "outputs": [
    {
     "data": {
      "text/html": [
       "<div>\n",
       "<style scoped>\n",
       "    .dataframe tbody tr th:only-of-type {\n",
       "        vertical-align: middle;\n",
       "    }\n",
       "\n",
       "    .dataframe tbody tr th {\n",
       "        vertical-align: top;\n",
       "    }\n",
       "\n",
       "    .dataframe thead th {\n",
       "        text-align: right;\n",
       "    }\n",
       "</style>\n",
       "<table border=\"1\" class=\"dataframe\">\n",
       "  <thead>\n",
       "    <tr style=\"text-align: right;\">\n",
       "      <th></th>\n",
       "      <th>Degree EoIs Degree Program Slug</th>\n",
       "      <th>Degree EoIs Eoi Response Country Cd</th>\n",
       "      <th>Degree EoIs Completed Eoi Responses</th>\n",
       "    </tr>\n",
       "  </thead>\n",
       "  <tbody>\n",
       "    <tr>\n",
       "      <th>1</th>\n",
       "      <td>global-mph-imperial</td>\n",
       "      <td>US</td>\n",
       "      <td>1598</td>\n",
       "    </tr>\n",
       "    <tr>\n",
       "      <th>2</th>\n",
       "      <td>global-mph-imperial</td>\n",
       "      <td>IN</td>\n",
       "      <td>1141</td>\n",
       "    </tr>\n",
       "    <tr>\n",
       "      <th>3</th>\n",
       "      <td>global-mph-imperial</td>\n",
       "      <td>N/A</td>\n",
       "      <td>485</td>\n",
       "    </tr>\n",
       "    <tr>\n",
       "      <th>4</th>\n",
       "      <td>global-mph-imperial</td>\n",
       "      <td>NG</td>\n",
       "      <td>468</td>\n",
       "    </tr>\n",
       "    <tr>\n",
       "      <th>5</th>\n",
       "      <td>global-mph-imperial</td>\n",
       "      <td>BR</td>\n",
       "      <td>440</td>\n",
       "    </tr>\n",
       "  </tbody>\n",
       "</table>\n",
       "</div>"
      ],
      "text/plain": [
       "  Degree EoIs Degree Program Slug Degree EoIs Eoi Response Country Cd  \\\n",
       "1             global-mph-imperial                                  US   \n",
       "2             global-mph-imperial                                  IN   \n",
       "3             global-mph-imperial                                 N/A   \n",
       "4             global-mph-imperial                                  NG   \n",
       "5             global-mph-imperial                                  BR   \n",
       "\n",
       "  Degree EoIs Completed Eoi Responses  \n",
       "1                                1598  \n",
       "2                                1141  \n",
       "3                                 485  \n",
       "4                                 468  \n",
       "5                                 440  "
      ]
     },
     "execution_count": 35,
     "metadata": {},
     "output_type": "execute_result"
    }
   ],
   "source": [
    "spreadsheet_key = '1ncCQqj7Cb7ODFmwlnRQpD0PvUDeTZMITkUzQQfjR01I'\n",
    "book = gc.open_by_key(spreadsheet_key)\n",
    "worksheet = book.worksheet(\"Countries\")\n",
    "table = worksheet.get_all_values()\n",
    "\n",
    "df = pd.DataFrame(table, columns = table[0])\n",
    "df = df[1:]\n",
    "df.head()\n"
   ]
  },
  {
   "cell_type": "markdown",
   "metadata": {},
   "source": [
    "****************************************************************\n",
    "\n",
    "Useful links for conneting google sheets to Jupyter:\n",
    "http://www.countingcalculi.com/explanations/google_sheets_and_jupyter_notebooks/\n"
   ]
  }
 ],
 "metadata": {
  "kernelspec": {
   "display_name": "Python 3",
   "language": "python",
   "name": "python3"
  },
  "language_info": {
   "codemirror_mode": {
    "name": "ipython",
    "version": 3
   },
   "file_extension": ".py",
   "mimetype": "text/x-python",
   "name": "python",
   "nbconvert_exporter": "python",
   "pygments_lexer": "ipython3",
   "version": "3.6.4"
  }
 },
 "nbformat": 4,
 "nbformat_minor": 2
}
