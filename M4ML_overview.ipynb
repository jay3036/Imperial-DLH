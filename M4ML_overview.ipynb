{
 "cells": [
  {
   "cell_type": "markdown",
   "metadata": {
    "extensions": {
     "jupyter_dashboards": {
      "version": 1,
      "views": {
       "grid_default": {
        "col": 0,
        "height": 4,
        "hidden": false,
        "row": 0,
        "width": 4
       },
       "report_default": {
        "hidden": false
       }
      }
     }
    }
   },
   "source": [
    "# PCA Initial Analysis"
   ]
  },
  {
   "cell_type": "code",
   "execution_count": 1,
   "metadata": {
    "extensions": {
     "jupyter_dashboards": {
      "version": 1,
      "views": {
       "grid_default": {
        "col": 8,
        "height": 18,
        "hidden": false,
        "row": 0,
        "width": 4
       },
       "report_default": {
        "hidden": true
       }
      }
     }
    }
   },
   "outputs": [],
   "source": [
    "import numpy as np\n",
    "import pandas as pd\n",
    "import plotly\n",
    "import plotly.plotly as py\n",
    "import plotly.graph_objs as go\n",
    "import plotly.tools as tls\n",
    "import cufflinks as cf\n",
    "import plotly.figure_factory as ff\n",
    "import plotly.tools as tls\n",
    "\n",
    " \n",
    "plotly.tools.set_credentials_file(username='xxxxxxxx', api_key='xxxxxxxxxxxxxxxxxx')\n"
   ]
  },
  {
   "cell_type": "code",
   "execution_count": 3,
   "metadata": {
    "extensions": {
     "jupyter_dashboards": {
      "version": 1,
      "views": {
       "grid_default": {
        "col": 0,
        "height": 10,
        "hidden": false,
        "row": 18,
        "width": 12
       },
       "report_default": {
        "hidden": true
       }
      }
     }
    }
   },
   "outputs": [
    {
     "name": "stdout",
     "output_type": "stream",
     "text": [
      "(6535, 31)\n",
      "(6679, 7)\n"
     ]
    }
   ],
   "source": [
    "df = pd.read_csv('Data\\PCA-gradebook.csv', low_memory=False)\n",
    "df2 = pd.read_csv('Data\\programming_submissions.csv', low_memory=False)\n",
    "\n",
    "df = df.drop(columns  = 'Completed with CC')\n",
    "\n",
    "print(df.shape)\n",
    "print(df2.shape)\n"
   ]
  },
  {
   "cell_type": "code",
   "execution_count": 4,
   "metadata": {
    "extensions": {
     "jupyter_dashboards": {
      "version": 1,
      "views": {
       "grid_default": {
        "hidden": true
       },
       "report_default": {
        "hidden": true
       }
      }
     }
    }
   },
   "outputs": [],
   "source": [
    "df.columns = df.columns.str.replace('Assessment Grade: ','')"
   ]
  },
  {
   "cell_type": "code",
   "execution_count": 5,
   "metadata": {
    "extensions": {
     "jupyter_dashboards": {
      "version": 1,
      "views": {
       "grid_default": {
        "col": 0,
        "height": 11,
        "hidden": false,
        "row": 51,
        "width": 12
       },
       "report_default": {
        "hidden": true
       }
      }
     }
    }
   },
   "outputs": [
    {
     "name": "stdout",
     "output_type": "stream",
     "text": [
      "(6535, 15)\n"
     ]
    },
    {
     "data": {
      "text/html": [
       "<div>\n",
       "<style scoped>\n",
       "    .dataframe tbody tr th:only-of-type {\n",
       "        vertical-align: middle;\n",
       "    }\n",
       "\n",
       "    .dataframe tbody tr th {\n",
       "        vertical-align: top;\n",
       "    }\n",
       "\n",
       "    .dataframe thead th {\n",
       "        text-align: right;\n",
       "    }\n",
       "</style>\n",
       "<table border=\"1\" class=\"dataframe\">\n",
       "  <thead>\n",
       "    <tr style=\"text-align: right;\">\n",
       "      <th></th>\n",
       "      <th>Anonymized Coursera ID (imperial_user_id)</th>\n",
       "      <th>Mean of datasets</th>\n",
       "      <th>Variance of 1D datasets</th>\n",
       "      <th>Covariance matrix of a two-dimensional dataset</th>\n",
       "      <th>Mean/covariance of a dataset + effect of a linear transformation</th>\n",
       "      <th>Dot product</th>\n",
       "      <th>Properties of inner products</th>\n",
       "      <th>General inner products: lengths and distances</th>\n",
       "      <th>Angles between vectors  using a non-standard inner product</th>\n",
       "      <th>Inner products and angles</th>\n",
       "      <th>Projection onto a 1-dimensional subspace</th>\n",
       "      <th>Project 3D data onto a 2D subspace</th>\n",
       "      <th>Orthogonal projections</th>\n",
       "      <th>Chain rule practice</th>\n",
       "      <th>PCA</th>\n",
       "    </tr>\n",
       "  </thead>\n",
       "  <tbody>\n",
       "    <tr>\n",
       "      <th>0</th>\n",
       "      <td>00d5cf8bd7552ae649633a2d13fd0871e9c15de6</td>\n",
       "      <td>NaN</td>\n",
       "      <td>NaN</td>\n",
       "      <td>NaN</td>\n",
       "      <td>NaN</td>\n",
       "      <td>NaN</td>\n",
       "      <td>NaN</td>\n",
       "      <td>NaN</td>\n",
       "      <td>NaN</td>\n",
       "      <td>NaN</td>\n",
       "      <td>NaN</td>\n",
       "      <td>NaN</td>\n",
       "      <td>NaN</td>\n",
       "      <td>NaN</td>\n",
       "      <td>NaN</td>\n",
       "    </tr>\n",
       "    <tr>\n",
       "      <th>1</th>\n",
       "      <td>0551a9cfaecc2d631359dc2daea932ccb686ea1b</td>\n",
       "      <td>NaN</td>\n",
       "      <td>NaN</td>\n",
       "      <td>NaN</td>\n",
       "      <td>NaN</td>\n",
       "      <td>NaN</td>\n",
       "      <td>NaN</td>\n",
       "      <td>NaN</td>\n",
       "      <td>NaN</td>\n",
       "      <td>NaN</td>\n",
       "      <td>NaN</td>\n",
       "      <td>NaN</td>\n",
       "      <td>NaN</td>\n",
       "      <td>NaN</td>\n",
       "      <td>NaN</td>\n",
       "    </tr>\n",
       "    <tr>\n",
       "      <th>2</th>\n",
       "      <td>0aecdf533015d86a0f5def4c5c2a5e8891cd5096</td>\n",
       "      <td>NaN</td>\n",
       "      <td>NaN</td>\n",
       "      <td>NaN</td>\n",
       "      <td>NaN</td>\n",
       "      <td>NaN</td>\n",
       "      <td>NaN</td>\n",
       "      <td>NaN</td>\n",
       "      <td>NaN</td>\n",
       "      <td>NaN</td>\n",
       "      <td>NaN</td>\n",
       "      <td>NaN</td>\n",
       "      <td>NaN</td>\n",
       "      <td>NaN</td>\n",
       "      <td>NaN</td>\n",
       "    </tr>\n",
       "    <tr>\n",
       "      <th>3</th>\n",
       "      <td>133626ba4c5f9f15a21f892ee83782f8375b55fd</td>\n",
       "      <td>NaN</td>\n",
       "      <td>NaN</td>\n",
       "      <td>NaN</td>\n",
       "      <td>NaN</td>\n",
       "      <td>NaN</td>\n",
       "      <td>NaN</td>\n",
       "      <td>NaN</td>\n",
       "      <td>NaN</td>\n",
       "      <td>NaN</td>\n",
       "      <td>NaN</td>\n",
       "      <td>NaN</td>\n",
       "      <td>NaN</td>\n",
       "      <td>NaN</td>\n",
       "      <td>NaN</td>\n",
       "    </tr>\n",
       "    <tr>\n",
       "      <th>4</th>\n",
       "      <td>16d025f714693a4bc010ce12b9766a36cf92f0f1</td>\n",
       "      <td>NaN</td>\n",
       "      <td>NaN</td>\n",
       "      <td>NaN</td>\n",
       "      <td>NaN</td>\n",
       "      <td>NaN</td>\n",
       "      <td>NaN</td>\n",
       "      <td>NaN</td>\n",
       "      <td>NaN</td>\n",
       "      <td>NaN</td>\n",
       "      <td>NaN</td>\n",
       "      <td>NaN</td>\n",
       "      <td>NaN</td>\n",
       "      <td>NaN</td>\n",
       "      <td>NaN</td>\n",
       "    </tr>\n",
       "  </tbody>\n",
       "</table>\n",
       "</div>"
      ],
      "text/plain": [
       "  Anonymized Coursera ID (imperial_user_id)  Mean of datasets  \\\n",
       "0  00d5cf8bd7552ae649633a2d13fd0871e9c15de6               NaN   \n",
       "1  0551a9cfaecc2d631359dc2daea932ccb686ea1b               NaN   \n",
       "2  0aecdf533015d86a0f5def4c5c2a5e8891cd5096               NaN   \n",
       "3  133626ba4c5f9f15a21f892ee83782f8375b55fd               NaN   \n",
       "4  16d025f714693a4bc010ce12b9766a36cf92f0f1               NaN   \n",
       "\n",
       "   Variance of 1D datasets  Covariance matrix of a two-dimensional dataset  \\\n",
       "0                      NaN                                             NaN   \n",
       "1                      NaN                                             NaN   \n",
       "2                      NaN                                             NaN   \n",
       "3                      NaN                                             NaN   \n",
       "4                      NaN                                             NaN   \n",
       "\n",
       "   Mean/covariance of a dataset + effect of a linear transformation  \\\n",
       "0                                                NaN                  \n",
       "1                                                NaN                  \n",
       "2                                                NaN                  \n",
       "3                                                NaN                  \n",
       "4                                                NaN                  \n",
       "\n",
       "   Dot product  Properties of inner products  \\\n",
       "0          NaN                           NaN   \n",
       "1          NaN                           NaN   \n",
       "2          NaN                           NaN   \n",
       "3          NaN                           NaN   \n",
       "4          NaN                           NaN   \n",
       "\n",
       "   General inner products: lengths and distances  \\\n",
       "0                                            NaN   \n",
       "1                                            NaN   \n",
       "2                                            NaN   \n",
       "3                                            NaN   \n",
       "4                                            NaN   \n",
       "\n",
       "   Angles between vectors  using a non-standard inner product  \\\n",
       "0                                                NaN            \n",
       "1                                                NaN            \n",
       "2                                                NaN            \n",
       "3                                                NaN            \n",
       "4                                                NaN            \n",
       "\n",
       "   Inner products and angles  Projection onto a 1-dimensional subspace  \\\n",
       "0                        NaN                                       NaN   \n",
       "1                        NaN                                       NaN   \n",
       "2                        NaN                                       NaN   \n",
       "3                        NaN                                       NaN   \n",
       "4                        NaN                                       NaN   \n",
       "\n",
       "   Project 3D data onto a 2D subspace  Orthogonal projections  \\\n",
       "0                                 NaN                     NaN   \n",
       "1                                 NaN                     NaN   \n",
       "2                                 NaN                     NaN   \n",
       "3                                 NaN                     NaN   \n",
       "4                                 NaN                     NaN   \n",
       "\n",
       "   Chain rule practice  PCA  \n",
       "0                  NaN  NaN  \n",
       "1                  NaN  NaN  \n",
       "2                  NaN  NaN  \n",
       "3                  NaN  NaN  \n",
       "4                  NaN  NaN  "
      ]
     },
     "execution_count": 5,
     "metadata": {},
     "output_type": "execute_result"
    }
   ],
   "source": [
    "gradebook = df.iloc[:,[0,1,3,5,7,9,11,13,15,17,19,21,23,25,27]]\n",
    "print (gradebook.shape)\n",
    "gradebook.head()\n"
   ]
  },
  {
   "cell_type": "markdown",
   "metadata": {
    "extensions": {
     "jupyter_dashboards": {
      "version": 1,
      "views": {
       "grid_default": {
        "hidden": true
       },
       "report_default": {
        "hidden": false
       }
      }
     }
    }
   },
   "source": [
    "## Course funnel\n",
    "Out of a total reach of 21,252 potential learners who have seen the PCA homepage, 30% (6535) started the course. 5% of these people went on to complete the course.\n",
    "\n",
    "This graph describes funnel from users seeing the course, to enrolling, to the desired outcome: passing the course. \n",
    "\n",
    "### We can see from this graph that 91% of those who complete the course will pass"
   ]
  },
  {
   "cell_type": "code",
   "execution_count": 7,
   "metadata": {
    "extensions": {
     "jupyter_dashboards": {
      "version": 1,
      "views": {
       "grid_default": {
        "hidden": true
       },
       "report_default": {
        "hidden": false
       }
      }
     }
    },
    "scrolled": false
   },
   "outputs": [
    {
     "data": {
      "text/html": [
       "<iframe id=\"igraph\" scrolling=\"no\" style=\"border:none;\" seamless=\"seamless\" src=\"https://plot.ly/~ikalkani/67.embed\" height=\"525px\" width=\"100%\"></iframe>"
      ],
      "text/plain": [
       "<plotly.tools.PlotlyDisplay object>"
      ]
     },
     "execution_count": 7,
     "metadata": {},
     "output_type": "execute_result"
    }
   ],
   "source": [
    "reach = 21252\n",
    "starters = len(df)\n",
    "completers = df.loc[:,'PCA'].count()\n",
    "pass_fail = df.loc[:,'Course Passed'].groupby(df.loc[:,'Course Passed']).count()\n",
    "passed = pass_fail[1]\n",
    "failed = pass_fail[0]\n",
    "\n",
    "funnel = [go.Bar(\n",
    "            x=[\"reach\", \"enrolled learners\", \"completers\", \"passed\"],\n",
    "            y=[reach, starters, completers, passed],\n",
    "            text=[round((reach/reach)*100), round((starters/reach)*100), round((completers/starters)*100), round((passed/completers)*100)]\n",
    "            )]    \n",
    "layout = dict(title = 'Course funnel',\n",
    "             xaxis = dict(title = 'Stage'),\n",
    "             yaxis = dict(title = 'Total numbers',\n",
    "                           type='log',\n",
    "                           autorange = True,\n",
    "#                          hoverformat = ',.0%'\n",
    "                          )\n",
    "             )\n",
    "\n",
    "fig = go.Figure(data=funnel, layout=layout)\n",
    "py.iplot(fig,filename='bar-funnel', kind='bar',sharing='private')"
   ]
  },
  {
   "cell_type": "markdown",
   "metadata": {
    "extensions": {
     "jupyter_dashboards": {
      "version": 1,
      "views": {
       "grid_default": {
        "hidden": true
       },
       "report_default": {
        "hidden": false
       }
      }
     }
    }
   },
   "source": [
    "## Progression in course\n",
    "\n",
    "So where are the 95% dropping out between enrolment and completing the course? \n",
    "\n",
    "This graph shows the number of people who submitted solutions for each assignment, only one submission is counted per user, so this measure tells us the number of users who attempted each submission atleast once. Hover over the points to see the total number of students who attempted each assigment (top) and as a percentage of all enrolled students (bottom). \n",
    "\n",
    "Overall, 5% of enrolled students attempt the final assessment. 84% enrolled of users drop off before the first assessment. \n",
    "\n",
    "### Once learners have completed their 4th assignment they have a 70% chance of completing the course, and therefore a 63% chance of passing the course. \n",
    "\n"
   ]
  },
  {
   "cell_type": "code",
   "execution_count": 8,
   "metadata": {
    "extensions": {
     "jupyter_dashboards": {
      "version": 1,
      "views": {
       "grid_default": {
        "col": 8,
        "height": 19,
        "hidden": false,
        "row": 28,
        "width": 4
       },
       "report_default": {
        "hidden": false
       }
      }
     }
    },
    "scrolled": false
   },
   "outputs": [
    {
     "data": {
      "text/html": [
       "<iframe id=\"igraph\" scrolling=\"no\" style=\"border:none;\" seamless=\"seamless\" src=\"https://plot.ly/~ikalkani/73.embed\" height=\"525px\" width=\"100%\"></iframe>"
      ],
      "text/plain": [
       "<plotly.tools.PlotlyDisplay object>"
      ]
     },
     "execution_count": 8,
     "metadata": {},
     "output_type": "execute_result"
    }
   ],
   "source": [
    "progress = gradebook.count()\n",
    "#progress.iplot(kind='line', sharing='private')\n",
    "\n",
    "##Create traces\n",
    "trace2 = go.Scatter(\n",
    "    x = progress.index.values,\n",
    "    y = progress,\n",
    "    mode = 'lines+markers',\n",
    "    name = 'Number of unique submissions',\n",
    "    text = round((progress/6535)*100)\n",
    ")\n",
    "\n",
    "layout = dict(title = 'Progression',\n",
    "             xaxis = dict(title = 'Assessments'),\n",
    "             yaxis = dict(title = 'Number of unique submissions',\n",
    "                         type = 'log',\n",
    "                         autorange = True)\n",
    "             )\n",
    "\n",
    "fig1 = go.Figure(data=[trace2], layout=layout)\n",
    "py.iplot(fig1, filename='progression', sharing = 'private')"
   ]
  },
  {
   "cell_type": "markdown",
   "metadata": {
    "extensions": {
     "jupyter_dashboards": {
      "version": 1,
      "views": {
       "grid_default": {
        "hidden": true
       },
       "report_default": {
        "hidden": false
       }
      }
     }
    }
   },
   "source": [
    "## Learning curves\n",
    "The graph below shows the average top grade submitted by learners from two cohorts: those who eventually passed and those who eventually failed. People who eventually failed had a similar learning curve (measured by average score per assignment) compared to those who eventaully passed. \n",
    "\n",
    "The learning curves diverge at the final PCA assignment. Further analysis is required to investigate this.\n"
   ]
  },
  {
   "cell_type": "code",
   "execution_count": 9,
   "metadata": {
    "extensions": {
     "jupyter_dashboards": {
      "version": 1,
      "views": {
       "grid_default": {
        "col": 4,
        "height": 19,
        "hidden": false,
        "row": 62,
        "width": 4
       },
       "report_default": {
        "hidden": false
       }
      }
     }
    }
   },
   "outputs": [],
   "source": [
    "# To compair learning curves of passers vs failers we need to group the original dataframe by 'Course Passed' \n",
    "# the two groups are 0 = fail and 1 = pass\n",
    "\n",
    "split_lcurve = df.groupby(['Course Passed']).mean().transpose()\n",
    "#split_lcurve.iplot(kind='line',sharing='private')"
   ]
  },
  {
   "cell_type": "code",
   "execution_count": 10,
   "metadata": {
    "extensions": {
     "jupyter_dashboards": {
      "version": 1,
      "views": {
       "grid_default": {
        "hidden": true
       },
       "report_default": {
        "hidden": false
       }
      }
     }
    },
    "scrolled": false
   },
   "outputs": [
    {
     "data": {
      "text/html": [
       "<iframe id=\"igraph\" scrolling=\"no\" style=\"border:none;\" seamless=\"seamless\" src=\"https://plot.ly/~ikalkani/49.embed\" height=\"525px\" width=\"100%\"></iframe>"
      ],
      "text/plain": [
       "<plotly.tools.PlotlyDisplay object>"
      ]
     },
     "execution_count": 10,
     "metadata": {},
     "output_type": "execute_result"
    }
   ],
   "source": [
    "# Create traces\n",
    "trace0 = go.Scatter(\n",
    "    x = split_lcurve.index.values,\n",
    "    y = split_lcurve.iloc[:,0],\n",
    "    mode = 'lines+markers',\n",
    "    name = 'Failed'\n",
    ")\n",
    "\n",
    "trace1 = go.Scatter(\n",
    "    x = split_lcurve.index.values,\n",
    "    y = split_lcurve.iloc[:,1],\n",
    "    mode = 'lines+markers',\n",
    "    name = 'Passed'\n",
    ")\n",
    "\n",
    "layout = dict(title = 'Learning Curves',\n",
    "             xaxis = dict(title = 'Assessments'),\n",
    "             yaxis = dict(title = 'Average grade')\n",
    "             )\n",
    "\n",
    "data = [trace1, trace0]\n",
    "fig3 = go.Figure(data=data, layout=layout)\n",
    "py.iplot(fig3, filename='scatter-mode', sharing = 'private')"
   ]
  },
  {
   "cell_type": "markdown",
   "metadata": {
    "extensions": {
     "jupyter_dashboards": {
      "version": 1,
      "views": {
       "grid_default": {},
       "report_default": {
        "hidden": false
       }
      }
     }
    }
   },
   "source": [
    "## Programming submissions\n",
    "\n",
    "### 4. PCA"
   ]
  },
  {
   "cell_type": "code",
   "execution_count": 11,
   "metadata": {
    "extensions": {
     "jupyter_dashboards": {
      "version": 1,
      "views": {
       "grid_default": {},
       "report_default": {
        "hidden": false
       }
      }
     }
    }
   },
   "outputs": [
    {
     "data": {
      "text/html": [
       "<iframe id=\"igraph\" scrolling=\"no\" style=\"border:none;\" seamless=\"seamless\" src=\"https://plot.ly/~ikalkani/71.embed\" height=\"525px\" width=\"100%\"></iframe>"
      ],
      "text/plain": [
       "<plotly.tools.PlotlyDisplay object>"
      ]
     },
     "execution_count": 11,
     "metadata": {},
     "output_type": "execute_result"
    }
   ],
   "source": [
    "#Number of programming submissions per student per assigment - how can we reduce this number?\n",
    "d = df2[df2['programming_assignment_id'].str.contains(\"c2AdQRBEeiS7A4CoMRj0A\")]\n",
    "#d.head()\n",
    "d1 = d.groupby('imperial_user_id').count()\n",
    "x = d1.programming_submission_id\n",
    "data4 = [go.Histogram(x=x,\n",
    "                     histnorm='probability')]\n",
    "py.iplot(data4, filename='basic histogram', sharing = 'private')"
   ]
  },
  {
   "cell_type": "code",
   "execution_count": 14,
   "metadata": {
    "extensions": {
     "jupyter_dashboards": {
      "version": 1,
      "views": {
       "grid_default": {
        "hidden": true
       },
       "report_default": {
        "hidden": true
       }
      }
     }
    }
   },
   "outputs": [
    {
     "data": {
      "text/html": [
       "<iframe id=\"igraph\" scrolling=\"no\" style=\"border:none;\" seamless=\"seamless\" src=\"https://plot.ly/~ikalkani/71.embed\" height=\"525px\" width=\"100%\"></iframe>"
      ],
      "text/plain": [
       "<plotly.tools.PlotlyDisplay object>"
      ]
     },
     "execution_count": 14,
     "metadata": {},
     "output_type": "execute_result"
    }
   ],
   "source": [
    "#d.head()\n",
    "d2 = df2.groupby('imperial_user_id').count()\n",
    "x = d2.programming_submission_id\n",
    "data5 = [go.Histogram(x=x,\n",
    "                     histnorm='probability')]\n",
    "py.iplot(data5, filename='basic histogram', sharing = 'private')"
   ]
  },
  {
   "cell_type": "markdown",
   "metadata": {
    "extensions": {
     "jupyter_dashboards": {
      "version": 1,
      "views": {
       "grid_default": {},
       "report_default": {
        "hidden": false
       }
      }
     }
    }
   },
   "source": [
    "## Mean scores for all assignments"
   ]
  },
  {
   "cell_type": "code",
   "execution_count": 12,
   "metadata": {
    "extensions": {
     "jupyter_dashboards": {
      "version": 1,
      "views": {
       "grid_default": {},
       "report_default": {
        "hidden": true
       }
      }
     }
    },
    "scrolled": true
   },
   "outputs": [
    {
     "data": {
      "text/html": [
       "<iframe id=\"igraph\" scrolling=\"no\" style=\"border:none;\" seamless=\"seamless\" src=\"https://plot.ly/~ikalkani/69.embed\" height=\"525px\" width=\"100%\"></iframe>"
      ],
      "text/plain": [
       "<plotly.tools.PlotlyDisplay object>"
      ]
     },
     "execution_count": 12,
     "metadata": {},
     "output_type": "execute_result"
    }
   ],
   "source": [
    "mean_score = df2.groupby('imperial_user_id').mean()\n",
    "mean_score.head()\n",
    "x = mean_score.programming_submission_score\n",
    "hist_data = [x[~np.isnan(x)]]\n",
    "group_labels = ['distplot']\n",
    "\n",
    "fig = ff.create_distplot(hist_data, group_labels)\n",
    "py.iplot(fig, filename='Basic Distplot',sharing = 'private')"
   ]
  },
  {
   "cell_type": "markdown",
   "metadata": {
    "extensions": {
     "jupyter_dashboards": {
      "version": 1,
      "views": {
       "grid_default": {},
       "report_default": {
        "hidden": false
       }
      }
     }
    }
   },
   "source": [
    "### Link to comments and feedback"
   ]
  },
  {
   "cell_type": "markdown",
   "metadata": {
    "extensions": {
     "jupyter_dashboards": {
      "version": 1,
      "views": {
       "grid_default": {},
       "report_default": {
        "hidden": false
       }
      }
     }
    }
   },
   "source": [
    "https://www.coursera.org/teach/pca-machine-learning/analytics/ratings\n",
    "    "
   ]
  },
  {
   "cell_type": "code",
   "execution_count": null,
   "metadata": {
    "extensions": {
     "jupyter_dashboards": {
      "version": 1,
      "views": {
       "grid_default": {},
       "report_default": {
        "hidden": true
       }
      }
     }
    }
   },
   "outputs": [],
   "source": []
  },
  {
   "cell_type": "code",
   "execution_count": null,
   "metadata": {
    "extensions": {
     "jupyter_dashboards": {
      "version": 1,
      "views": {
       "grid_default": {},
       "report_default": {
        "hidden": true
       }
      }
     }
    }
   },
   "outputs": [],
   "source": []
  }
 ],
 "metadata": {
  "extensions": {
   "jupyter_dashboards": {
    "activeView": "report_default",
    "version": 1,
    "views": {
     "grid_default": {
      "cellMargin": 10,
      "defaultCellHeight": 20,
      "maxColumns": 12,
      "name": "grid",
      "type": "grid"
     },
     "report_default": {
      "name": "report",
      "type": "report"
     }
    }
   }
  },
  "kernelspec": {
   "display_name": "Python 3",
   "language": "python",
   "name": "python3"
  },
  "language_info": {
   "codemirror_mode": {
    "name": "ipython",
    "version": 3
   },
   "file_extension": ".py",
   "mimetype": "text/x-python",
   "name": "python",
   "nbconvert_exporter": "python",
   "pygments_lexer": "ipython3",
   "version": "3.6.4"
  }
 },
 "nbformat": 4,
 "nbformat_minor": 2
}
